{
 "cells": [
  {
   "cell_type": "code",
   "execution_count": 11,
   "metadata": {},
   "outputs": [
    {
     "name": "stdout",
     "output_type": "stream",
     "text": [
      "<EOS><UNK>\n"
     ]
    }
   ],
   "source": [
    "word2idx = {\"<PAD>\": 0, \"<BOS>\": 1, \"<EOS>\": 2, \"<UNK>\": 3}\n",
    "idx2word = [\"<PAD>\", \"<BOS>\", \"<EOS>\", \"<UNK>\"]\n",
    "input_ids = [2,3]\n",
    "word = \"<PAD>\"\n",
    "\n",
    "encoded = \"\"\n",
    "for ind in input_ids:\n",
    "    encoded += idx2word[ind] + \" \"\n",
    "\n",
    "print(encoded)\n",
    "print(word2idx.get(word))"
   ]
  },
  {
   "cell_type": "code",
   "execution_count": 3,
   "metadata": {},
   "outputs": [
    {
     "name": "stdout",
     "output_type": "stream",
     "text": [
      "('I', 'love') → Python\n",
      "('love', 'Python') → <EOS>\n"
     ]
    }
   ],
   "source": [
    "tokens = [\"I\", \"love\", \"Python\", \"<EOS>\"]\n",
    "n = 3\n",
    "\n",
    "for i in range(len(tokens) - n + 1):\n",
    "    prefix = tuple(tokens[i : i + n - 1])  \n",
    "    next_token = tokens[i + n - 1]  \n",
    "    print(f\"{prefix} → {next_token}\")"
   ]
  },
  {
   "cell_type": "code",
   "execution_count": null,
   "metadata": {},
   "outputs": [],
   "source": []
  }
 ],
 "metadata": {
  "kernelspec": {
   "display_name": "Python 3",
   "language": "python",
   "name": "python3"
  },
  "language_info": {
   "codemirror_mode": {
    "name": "ipython",
    "version": 3
   },
   "file_extension": ".py",
   "mimetype": "text/x-python",
   "name": "python",
   "nbconvert_exporter": "python",
   "pygments_lexer": "ipython3",
   "version": "3.13.0"
  }
 },
 "nbformat": 4,
 "nbformat_minor": 2
}
